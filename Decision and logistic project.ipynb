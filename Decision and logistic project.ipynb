{
 "cells": [
  {
   "cell_type": "code",
   "execution_count": 145,
   "id": "e8dbbb3d",
   "metadata": {},
   "outputs": [],
   "source": [
    "import os \n",
    "import numpy as np\n",
    "import pandas as pd\n",
    "import scipy.stats as sp\n",
    "import matplotlib.pyplot as plt\n",
    "import seaborn as sns"
   ]
  },
  {
   "cell_type": "code",
   "execution_count": 146,
   "id": "24f73fef",
   "metadata": {},
   "outputs": [],
   "source": [
    "diab=pd.read_csv(\"C:\\\\Users\\\\riama\\\\Desktop\\\\Machine_learning\\\\diabetes.csv\")"
   ]
  },
  {
   "cell_type": "code",
   "execution_count": 147,
   "id": "430550a1",
   "metadata": {},
   "outputs": [
    {
     "data": {
      "text/html": [
       "<div>\n",
       "<style scoped>\n",
       "    .dataframe tbody tr th:only-of-type {\n",
       "        vertical-align: middle;\n",
       "    }\n",
       "\n",
       "    .dataframe tbody tr th {\n",
       "        vertical-align: top;\n",
       "    }\n",
       "\n",
       "    .dataframe thead th {\n",
       "        text-align: right;\n",
       "    }\n",
       "</style>\n",
       "<table border=\"1\" class=\"dataframe\">\n",
       "  <thead>\n",
       "    <tr style=\"text-align: right;\">\n",
       "      <th></th>\n",
       "      <th>Pregnancies</th>\n",
       "      <th>Glucose</th>\n",
       "      <th>BloodPressure</th>\n",
       "      <th>SkinThickness</th>\n",
       "      <th>Insulin</th>\n",
       "      <th>BMI</th>\n",
       "      <th>DiabetesPedigreeFunction</th>\n",
       "      <th>Age</th>\n",
       "      <th>Outcome</th>\n",
       "    </tr>\n",
       "  </thead>\n",
       "  <tbody>\n",
       "    <tr>\n",
       "      <th>0</th>\n",
       "      <td>6</td>\n",
       "      <td>148</td>\n",
       "      <td>72</td>\n",
       "      <td>35</td>\n",
       "      <td>0</td>\n",
       "      <td>33.6</td>\n",
       "      <td>0.627</td>\n",
       "      <td>50</td>\n",
       "      <td>1</td>\n",
       "    </tr>\n",
       "    <tr>\n",
       "      <th>1</th>\n",
       "      <td>1</td>\n",
       "      <td>85</td>\n",
       "      <td>66</td>\n",
       "      <td>29</td>\n",
       "      <td>0</td>\n",
       "      <td>26.6</td>\n",
       "      <td>0.351</td>\n",
       "      <td>31</td>\n",
       "      <td>0</td>\n",
       "    </tr>\n",
       "  </tbody>\n",
       "</table>\n",
       "</div>"
      ],
      "text/plain": [
       "   Pregnancies  Glucose  BloodPressure  SkinThickness  Insulin   BMI  \\\n",
       "0            6      148             72             35        0  33.6   \n",
       "1            1       85             66             29        0  26.6   \n",
       "\n",
       "   DiabetesPedigreeFunction  Age  Outcome  \n",
       "0                     0.627   50        1  \n",
       "1                     0.351   31        0  "
      ]
     },
     "execution_count": 147,
     "metadata": {},
     "output_type": "execute_result"
    }
   ],
   "source": [
    "diab.head(2)"
   ]
  },
  {
   "cell_type": "code",
   "execution_count": 148,
   "id": "49cb9043",
   "metadata": {},
   "outputs": [
    {
     "name": "stdout",
     "output_type": "stream",
     "text": [
      "<class 'pandas.core.frame.DataFrame'>\n",
      "RangeIndex: 768 entries, 0 to 767\n",
      "Data columns (total 9 columns):\n",
      " #   Column                    Non-Null Count  Dtype  \n",
      "---  ------                    --------------  -----  \n",
      " 0   Pregnancies               768 non-null    int64  \n",
      " 1   Glucose                   768 non-null    int64  \n",
      " 2   BloodPressure             768 non-null    int64  \n",
      " 3   SkinThickness             768 non-null    int64  \n",
      " 4   Insulin                   768 non-null    int64  \n",
      " 5   BMI                       768 non-null    float64\n",
      " 6   DiabetesPedigreeFunction  768 non-null    float64\n",
      " 7   Age                       768 non-null    int64  \n",
      " 8   Outcome                   768 non-null    int64  \n",
      "dtypes: float64(2), int64(7)\n",
      "memory usage: 54.1 KB\n"
     ]
    }
   ],
   "source": [
    "diab.info()"
   ]
  },
  {
   "cell_type": "code",
   "execution_count": 149,
   "id": "01833e8e",
   "metadata": {},
   "outputs": [
    {
     "data": {
      "text/plain": [
       "Pregnancies                 0\n",
       "Glucose                     0\n",
       "BloodPressure               0\n",
       "SkinThickness               0\n",
       "Insulin                     0\n",
       "BMI                         0\n",
       "DiabetesPedigreeFunction    0\n",
       "Age                         0\n",
       "Outcome                     0\n",
       "dtype: int64"
      ]
     },
     "execution_count": 149,
     "metadata": {},
     "output_type": "execute_result"
    }
   ],
   "source": [
    "diab.isnull().sum()"
   ]
  },
  {
   "cell_type": "code",
   "execution_count": 150,
   "id": "8e24244e",
   "metadata": {},
   "outputs": [],
   "source": [
    "def univar(data,y):\n",
    "    unique_count= data[y].nunique()\n",
    "    missing= data[y].isnull().sum()\n",
    "    unique_cat= list(data[y].unique())\n",
    "    f1=pd.DataFrame(data[y].value_counts())\n",
    "    f1.rename(columns={y:\"Count\"},inplace=True)\n",
    "    f2=pd.DataFrame(data[y].value_counts(normalize=True))\n",
    "    f2.rename(columns={y:\"percentage\"},inplace=True)\n",
    "    f2[\"percentage\"]=round(f2[\"percentage\"]*100,2)  #(f2[\"percentage\"]*100).round(2).astype(str)+\"%\" (if we want to add percentage\n",
    "                                                    #then we have to convert it to string then will add %symbol)\n",
    "    ff=pd.concat([f1,f2],axis=1)\n",
    "    \n",
    "    myvalue= {\"missing\":missing,\"unique category\": unique_cat,\"unique_count\":unique_count}\n",
    "    print(f\"value count and %\\n\",ff)\n",
    "    sns.countplot(data=data,x=y)\n",
    "    return myvalue"
   ]
  },
  {
   "cell_type": "code",
   "execution_count": 151,
   "id": "2d6def69",
   "metadata": {},
   "outputs": [],
   "source": [
    "def univar_num(y):\n",
    "    missing= y.isnull().sum()\n",
    "    min1=round(y.min(),2)\n",
    "    max1=round(y.max(),2)\n",
    "    mean=round(y.mean(),2)\n",
    "    var=round(y.var(),2)\n",
    "    std=round(y.std(),2)\n",
    "    range1=round(max1-min1,2)\n",
    "    q1= round(y.quantile(.25),2)\n",
    "    q2=round(y.quantile(.5),2)\n",
    "    q3=round(y.quantile(.75),2)\n",
    "    skew=round(y.skew(),2)\n",
    "    kurt=round(y.kurt(),2)\n",
    "    myval={\"Missing Value\":missing,\"Minimum value\": min1,\"Maximum value\": max1, \"Mean value\": mean,\"Variance\": var,\"Standard Deviation\": std,\"Range\": range1,\n",
    "          \"Quantile1\":q1,\"Quantile2\": q2,\"Quantile3\":q3,\"Skewness\": skew,\"kurtosis\":kurt}\n",
    "    sns.histplot(y)\n",
    "    plt.show()\n",
    "    sns.boxplot(data=diab,y=y)\n",
    "    plt.show()\n",
    "    return myval"
   ]
  },
  {
   "cell_type": "code",
   "execution_count": 152,
   "id": "c7a8f04a",
   "metadata": {},
   "outputs": [
    {
     "data": {
      "text/plain": [
       "Index(['Pregnancies', 'Glucose', 'BloodPressure', 'SkinThickness', 'Insulin',\n",
       "       'BMI', 'DiabetesPedigreeFunction', 'Age', 'Outcome'],\n",
       "      dtype='object')"
      ]
     },
     "execution_count": 152,
     "metadata": {},
     "output_type": "execute_result"
    }
   ],
   "source": [
    "diab.columns"
   ]
  },
  {
   "cell_type": "code",
   "execution_count": 153,
   "id": "b1f34308",
   "metadata": {},
   "outputs": [
    {
     "data": {
      "image/png": "[encoded data removed]",
      "text/plain": [
       "<Figure size 432x288 with 1 Axes>"
      ]
     },
     "metadata": {
      "needs_background": "light"
     },
     "output_type": "display_data"
    },
    {
     "data": {
      "image/png": "[encoded data removed]",
      "text/plain": [
       "<Figure size 432x288 with 1 Axes>"
      ]
     },
     "metadata": {
      "needs_background": "light"
     },
     "output_type": "display_data"
    },
    {
     "data": {
      "text/plain": [
       "{'Missing Value': 0,\n",
       " 'Minimum value': 0,\n",
       " 'Maximum value': 199,\n",
       " 'Mean value': 120.89,\n",
       " 'Variance': 1022.25,\n",
       " 'Standard Deviation': 31.97,\n",
       " 'Range': 199,\n",
       " 'Quantile1': 99.0,\n",
       " 'Quantile2': 117.0,\n",
       " 'Quantile3': 140.25,\n",
       " 'Skewness': 0.17,\n",
       " 'kurtosis': 0.64}"
      ]
     },
     "execution_count": 153,
     "metadata": {},
     "output_type": "execute_result"
    }
   ],
   "source": [
    "univar_num(diab[\"Glucose\"])"
   ]
  },
  {
   "cell_type": "markdown",
   "id": "9920eb12",
   "metadata": {},
   "source": [
    "#### Outliers Treatment"
   ]
  },
  {
   "cell_type": "code",
   "execution_count": 154,
   "id": "41818764",
   "metadata": {},
   "outputs": [],
   "source": [
    "def outliers(x):\n",
    "    x=x.clip(upper=x.quantile(.99))\n",
    "    x=x.clip(lower=x.quantile(.01))\n",
    "    return x"
   ]
  },
  {
   "cell_type": "code",
   "execution_count": 155,
   "id": "91ea0b56",
   "metadata": {},
   "outputs": [
    {
     "data": {
      "text/html": [
       "<div>\n",
       "<style scoped>\n",
       "    .dataframe tbody tr th:only-of-type {\n",
       "        vertical-align: middle;\n",
       "    }\n",
       "\n",
       "    .dataframe tbody tr th {\n",
       "        vertical-align: top;\n",
       "    }\n",
       "\n",
       "    .dataframe thead th {\n",
       "        text-align: right;\n",
       "    }\n",
       "</style>\n",
       "<table border=\"1\" class=\"dataframe\">\n",
       "  <thead>\n",
       "    <tr style=\"text-align: right;\">\n",
       "      <th></th>\n",
       "      <th>count</th>\n",
       "      <th>mean</th>\n",
       "      <th>std</th>\n",
       "      <th>min</th>\n",
       "      <th>1%</th>\n",
       "      <th>2%</th>\n",
       "      <th>3%</th>\n",
       "      <th>4%</th>\n",
       "      <th>5%</th>\n",
       "      <th>10%</th>\n",
       "      <th>25%</th>\n",
       "      <th>50%</th>\n",
       "      <th>75%</th>\n",
       "      <th>90%</th>\n",
       "      <th>95%</th>\n",
       "      <th>96%</th>\n",
       "      <th>97%</th>\n",
       "      <th>98%</th>\n",
       "      <th>99%</th>\n",
       "      <th>max</th>\n",
       "    </tr>\n",
       "  </thead>\n",
       "  <tbody>\n",
       "    <tr>\n",
       "      <th>Pregnancies</th>\n",
       "      <td>768.0</td>\n",
       "      <td>3.845052</td>\n",
       "      <td>3.369578</td>\n",
       "      <td>0.000</td>\n",
       "      <td>0.00000</td>\n",
       "      <td>0.00000</td>\n",
       "      <td>0.00000</td>\n",
       "      <td>0.000</td>\n",
       "      <td>0.00000</td>\n",
       "      <td>0.000</td>\n",
       "      <td>1.00000</td>\n",
       "      <td>3.0000</td>\n",
       "      <td>6.00000</td>\n",
       "      <td>9.0000</td>\n",
       "      <td>10.00000</td>\n",
       "      <td>11.00000</td>\n",
       "      <td>11.00000</td>\n",
       "      <td>12.00000</td>\n",
       "      <td>13.00000</td>\n",
       "      <td>17.00</td>\n",
       "    </tr>\n",
       "    <tr>\n",
       "      <th>Glucose</th>\n",
       "      <td>768.0</td>\n",
       "      <td>120.894531</td>\n",
       "      <td>31.972618</td>\n",
       "      <td>0.000</td>\n",
       "      <td>57.00000</td>\n",
       "      <td>69.02000</td>\n",
       "      <td>73.01000</td>\n",
       "      <td>76.000</td>\n",
       "      <td>79.00000</td>\n",
       "      <td>85.000</td>\n",
       "      <td>99.00000</td>\n",
       "      <td>117.0000</td>\n",
       "      <td>140.25000</td>\n",
       "      <td>167.0000</td>\n",
       "      <td>181.00000</td>\n",
       "      <td>184.00000</td>\n",
       "      <td>187.99000</td>\n",
       "      <td>192.32000</td>\n",
       "      <td>196.00000</td>\n",
       "      <td>199.00</td>\n",
       "    </tr>\n",
       "    <tr>\n",
       "      <th>BloodPressure</th>\n",
       "      <td>768.0</td>\n",
       "      <td>69.105469</td>\n",
       "      <td>19.355807</td>\n",
       "      <td>0.000</td>\n",
       "      <td>0.00000</td>\n",
       "      <td>0.00000</td>\n",
       "      <td>0.00000</td>\n",
       "      <td>0.000</td>\n",
       "      <td>38.70000</td>\n",
       "      <td>54.000</td>\n",
       "      <td>62.00000</td>\n",
       "      <td>72.0000</td>\n",
       "      <td>80.00000</td>\n",
       "      <td>88.0000</td>\n",
       "      <td>90.00000</td>\n",
       "      <td>92.00000</td>\n",
       "      <td>94.99000</td>\n",
       "      <td>99.32000</td>\n",
       "      <td>106.00000</td>\n",
       "      <td>122.00</td>\n",
       "    </tr>\n",
       "    <tr>\n",
       "      <th>SkinThickness</th>\n",
       "      <td>768.0</td>\n",
       "      <td>20.536458</td>\n",
       "      <td>15.952218</td>\n",
       "      <td>0.000</td>\n",
       "      <td>0.00000</td>\n",
       "      <td>0.00000</td>\n",
       "      <td>0.00000</td>\n",
       "      <td>0.000</td>\n",
       "      <td>0.00000</td>\n",
       "      <td>0.000</td>\n",
       "      <td>0.00000</td>\n",
       "      <td>23.0000</td>\n",
       "      <td>32.00000</td>\n",
       "      <td>40.0000</td>\n",
       "      <td>44.00000</td>\n",
       "      <td>45.32000</td>\n",
       "      <td>46.00000</td>\n",
       "      <td>48.00000</td>\n",
       "      <td>51.33000</td>\n",
       "      <td>99.00</td>\n",
       "    </tr>\n",
       "    <tr>\n",
       "      <th>Insulin</th>\n",
       "      <td>768.0</td>\n",
       "      <td>79.799479</td>\n",
       "      <td>115.244002</td>\n",
       "      <td>0.000</td>\n",
       "      <td>0.00000</td>\n",
       "      <td>0.00000</td>\n",
       "      <td>0.00000</td>\n",
       "      <td>0.000</td>\n",
       "      <td>0.00000</td>\n",
       "      <td>0.000</td>\n",
       "      <td>0.00000</td>\n",
       "      <td>30.5000</td>\n",
       "      <td>127.25000</td>\n",
       "      <td>210.0000</td>\n",
       "      <td>293.00000</td>\n",
       "      <td>325.00000</td>\n",
       "      <td>369.90000</td>\n",
       "      <td>470.94000</td>\n",
       "      <td>519.90000</td>\n",
       "      <td>846.00</td>\n",
       "    </tr>\n",
       "    <tr>\n",
       "      <th>BMI</th>\n",
       "      <td>768.0</td>\n",
       "      <td>31.992578</td>\n",
       "      <td>7.884160</td>\n",
       "      <td>0.000</td>\n",
       "      <td>0.00000</td>\n",
       "      <td>19.16800</td>\n",
       "      <td>19.90100</td>\n",
       "      <td>21.000</td>\n",
       "      <td>21.80000</td>\n",
       "      <td>23.600</td>\n",
       "      <td>27.30000</td>\n",
       "      <td>32.0000</td>\n",
       "      <td>36.60000</td>\n",
       "      <td>41.5000</td>\n",
       "      <td>44.39500</td>\n",
       "      <td>45.33200</td>\n",
       "      <td>46.10000</td>\n",
       "      <td>47.52600</td>\n",
       "      <td>50.75900</td>\n",
       "      <td>67.10</td>\n",
       "    </tr>\n",
       "    <tr>\n",
       "      <th>DiabetesPedigreeFunction</th>\n",
       "      <td>768.0</td>\n",
       "      <td>0.471876</td>\n",
       "      <td>0.331329</td>\n",
       "      <td>0.078</td>\n",
       "      <td>0.09468</td>\n",
       "      <td>0.11902</td>\n",
       "      <td>0.12701</td>\n",
       "      <td>0.134</td>\n",
       "      <td>0.14035</td>\n",
       "      <td>0.165</td>\n",
       "      <td>0.24375</td>\n",
       "      <td>0.3725</td>\n",
       "      <td>0.62625</td>\n",
       "      <td>0.8786</td>\n",
       "      <td>1.13285</td>\n",
       "      <td>1.18424</td>\n",
       "      <td>1.25793</td>\n",
       "      <td>1.39066</td>\n",
       "      <td>1.69833</td>\n",
       "      <td>2.42</td>\n",
       "    </tr>\n",
       "    <tr>\n",
       "      <th>Age</th>\n",
       "      <td>768.0</td>\n",
       "      <td>33.240885</td>\n",
       "      <td>11.760232</td>\n",
       "      <td>21.000</td>\n",
       "      <td>21.00000</td>\n",
       "      <td>21.00000</td>\n",
       "      <td>21.00000</td>\n",
       "      <td>21.000</td>\n",
       "      <td>21.00000</td>\n",
       "      <td>22.000</td>\n",
       "      <td>24.00000</td>\n",
       "      <td>29.0000</td>\n",
       "      <td>41.00000</td>\n",
       "      <td>51.0000</td>\n",
       "      <td>58.00000</td>\n",
       "      <td>60.00000</td>\n",
       "      <td>62.00000</td>\n",
       "      <td>64.66000</td>\n",
       "      <td>67.00000</td>\n",
       "      <td>81.00</td>\n",
       "    </tr>\n",
       "    <tr>\n",
       "      <th>Outcome</th>\n",
       "      <td>768.0</td>\n",
       "      <td>0.348958</td>\n",
       "      <td>0.476951</td>\n",
       "      <td>0.000</td>\n",
       "      <td>0.00000</td>\n",
       "      <td>0.00000</td>\n",
       "      <td>0.00000</td>\n",
       "      <td>0.000</td>\n",
       "      <td>0.00000</td>\n",
       "      <td>0.000</td>\n",
       "      <td>0.00000</td>\n",
       "      <td>0.0000</td>\n",
       "      <td>1.00000</td>\n",
       "      <td>1.0000</td>\n",
       "      <td>1.00000</td>\n",
       "      <td>1.00000</td>\n",
       "      <td>1.00000</td>\n",
       "      <td>1.00000</td>\n",
       "      <td>1.00000</td>\n",
       "      <td>1.00</td>\n",
       "    </tr>\n",
       "  </tbody>\n",
       "</table>\n",
       "</div>"
      ],
      "text/plain": [
       "                          count        mean         std     min        1%  \\\n",
       "Pregnancies               768.0    3.845052    3.369578   0.000   0.00000   \n",
       "Glucose                   768.0  120.894531   31.972618   0.000  57.00000   \n",
       "BloodPressure             768.0   69.105469   19.355807   0.000   0.00000   \n",
       "SkinThickness             768.0   20.536458   15.952218   0.000   0.00000   \n",
       "Insulin                   768.0   79.799479  115.244002   0.000   0.00000   \n",
       "BMI                       768.0   31.992578    7.884160   0.000   0.00000   \n",
       "DiabetesPedigreeFunction  768.0    0.471876    0.331329   0.078   0.09468   \n",
       "Age                       768.0   33.240885   11.760232  21.000  21.00000   \n",
       "Outcome                   768.0    0.348958    0.476951   0.000   0.00000   \n",
       "\n",
       "                                2%        3%      4%        5%     10%  \\\n",
       "Pregnancies                0.00000   0.00000   0.000   0.00000   0.000   \n",
       "Glucose                   69.02000  73.01000  76.000  79.00000  85.000   \n",
       "BloodPressure              0.00000   0.00000   0.000  38.70000  54.000   \n",
       "SkinThickness              0.00000   0.00000   0.000   0.00000   0.000   \n",
       "Insulin                    0.00000   0.00000   0.000   0.00000   0.000   \n",
       "BMI                       19.16800  19.90100  21.000  21.80000  23.600   \n",
       "DiabetesPedigreeFunction   0.11902   0.12701   0.134   0.14035   0.165   \n",
       "Age                       21.00000  21.00000  21.000  21.00000  22.000   \n",
       "Outcome                    0.00000   0.00000   0.000   0.00000   0.000   \n",
       "\n",
       "                               25%       50%        75%       90%        95%  \\\n",
       "Pregnancies                1.00000    3.0000    6.00000    9.0000   10.00000   \n",
       "Glucose                   99.00000  117.0000  140.25000  167.0000  181.00000   \n",
       "BloodPressure             62.00000   72.0000   80.00000   88.0000   90.00000   \n",
       "SkinThickness              0.00000   23.0000   32.00000   40.0000   44.00000   \n",
       "Insulin                    0.00000   30.5000  127.25000  210.0000  293.00000   \n",
       "BMI                       27.30000   32.0000   36.60000   41.5000   44.39500   \n",
       "DiabetesPedigreeFunction   0.24375    0.3725    0.62625    0.8786    1.13285   \n",
       "Age                       24.00000   29.0000   41.00000   51.0000   58.00000   \n",
       "Outcome                    0.00000    0.0000    1.00000    1.0000    1.00000   \n",
       "\n",
       "                                96%        97%        98%        99%     max  \n",
       "Pregnancies                11.00000   11.00000   12.00000   13.00000   17.00  \n",
       "Glucose                   184.00000  187.99000  192.32000  196.00000  199.00  \n",
       "BloodPressure              92.00000   94.99000   99.32000  106.00000  122.00  \n",
       "SkinThickness              45.32000   46.00000   48.00000   51.33000   99.00  \n",
       "Insulin                   325.00000  369.90000  470.94000  519.90000  846.00  \n",
       "BMI                        45.33200   46.10000   47.52600   50.75900   67.10  \n",
       "DiabetesPedigreeFunction    1.18424    1.25793    1.39066    1.69833    2.42  \n",
       "Age                        60.00000   62.00000   64.66000   67.00000   81.00  \n",
       "Outcome                     1.00000    1.00000    1.00000    1.00000    1.00  "
      ]
     },
     "execution_count": 155,
     "metadata": {},
     "output_type": "execute_result"
    }
   ],
   "source": [
    "diab.describe(percentiles=[.01,.02,.03,.04,.05,.1,.25,.5,.75,.9,.95,.96,.97,.98,.99]).T"
   ]
  },
  {
   "cell_type": "code",
   "execution_count": 156,
   "id": "17e17eb2",
   "metadata": {},
   "outputs": [
    {
     "data": {
      "text/plain": [
       "117.0"
      ]
     },
     "execution_count": 156,
     "metadata": {},
     "output_type": "execute_result"
    }
   ],
   "source": [
    "diab[\"Glucose\"].median()"
   ]
  },
  {
   "cell_type": "code",
   "execution_count": 157,
   "id": "d2609442",
   "metadata": {},
   "outputs": [],
   "source": [
    "diab[diab[\"Glucose\"]==0]=117.0  #replaced the 0 with median value of glucose"
   ]
  },
  {
   "cell_type": "code",
   "execution_count": 158,
   "id": "44ab1f54",
   "metadata": {},
   "outputs": [
    {
     "data": {
      "text/html": [
       "<div>\n",
       "<style scoped>\n",
       "    .dataframe tbody tr th:only-of-type {\n",
       "        vertical-align: middle;\n",
       "    }\n",
       "\n",
       "    .dataframe tbody tr th {\n",
       "        vertical-align: top;\n",
       "    }\n",
       "\n",
       "    .dataframe thead th {\n",
       "        text-align: right;\n",
       "    }\n",
       "</style>\n",
       "<table border=\"1\" class=\"dataframe\">\n",
       "  <thead>\n",
       "    <tr style=\"text-align: right;\">\n",
       "      <th></th>\n",
       "      <th>Pregnancies</th>\n",
       "      <th>Glucose</th>\n",
       "      <th>BloodPressure</th>\n",
       "      <th>SkinThickness</th>\n",
       "      <th>Insulin</th>\n",
       "      <th>BMI</th>\n",
       "      <th>DiabetesPedigreeFunction</th>\n",
       "      <th>Age</th>\n",
       "      <th>Outcome</th>\n",
       "    </tr>\n",
       "  </thead>\n",
       "  <tbody>\n",
       "  </tbody>\n",
       "</table>\n",
       "</div>"
      ],
      "text/plain": [
       "Empty DataFrame\n",
       "Columns: [Pregnancies, Glucose, BloodPressure, SkinThickness, Insulin, BMI, DiabetesPedigreeFunction, Age, Outcome]\n",
       "Index: []"
      ]
     },
     "execution_count": 158,
     "metadata": {},
     "output_type": "execute_result"
    }
   ],
   "source": [
    "diab[diab[\"Glucose\"]==0]"
   ]
  },
  {
   "cell_type": "code",
   "execution_count": 159,
   "id": "d740fab8",
   "metadata": {},
   "outputs": [],
   "source": [
    "# diab[\"Glucose\"].replace({0:np.nan})   creating it in missing value thhen will fill the same"
   ]
  },
  {
   "cell_type": "code",
   "execution_count": 160,
   "id": "0595afaf",
   "metadata": {},
   "outputs": [],
   "source": [
    "diab[[\"BloodPressure\",\"SkinThickness\",\"Insulin\",\"BMI\"]]=diab[[\"BloodPressure\",\"SkinThickness\",\"Insulin\",\"BMI\"]].replace({0:np.nan})"
   ]
  },
  {
   "cell_type": "code",
   "execution_count": 161,
   "id": "1df95eef",
   "metadata": {},
   "outputs": [
    {
     "data": {
      "text/plain": [
       "Pregnancies                   0\n",
       "Glucose                       0\n",
       "BloodPressure                35\n",
       "SkinThickness               227\n",
       "Insulin                     370\n",
       "BMI                          11\n",
       "DiabetesPedigreeFunction      0\n",
       "Age                           0\n",
       "Outcome                       0\n",
       "dtype: int64"
      ]
     },
     "execution_count": 161,
     "metadata": {},
     "output_type": "execute_result"
    }
   ],
   "source": [
    "diab.isnull().sum()"
   ]
  },
  {
   "cell_type": "code",
   "execution_count": 162,
   "id": "df2c2e8c",
   "metadata": {},
   "outputs": [],
   "source": [
    "diab.fillna(diab.median(),inplace=True)\n",
    "#from sklearn.impute import SimpleImputer\n",
    "#sm=SimpleImputer(strategy=\"median\")\n",
    "# df1=sm.fit_transform(df) (gives the result in array hence we are converting it into data frame)\n",
    "# df2=pd.Dataframe(df1,columns=df.columns)\n",
    "# df2   (another method for filling the missing values)\n"
   ]
  },
  {
   "cell_type": "code",
   "execution_count": 163,
   "id": "35bf4ece",
   "metadata": {},
   "outputs": [
    {
     "data": {
      "text/plain": [
       "Pregnancies                 0\n",
       "Glucose                     0\n",
       "BloodPressure               0\n",
       "SkinThickness               0\n",
       "Insulin                     0\n",
       "BMI                         0\n",
       "DiabetesPedigreeFunction    0\n",
       "Age                         0\n",
       "Outcome                     0\n",
       "dtype: int64"
      ]
     },
     "execution_count": 163,
     "metadata": {},
     "output_type": "execute_result"
    }
   ],
   "source": [
    "diab.isnull().sum()"
   ]
  },
  {
   "cell_type": "code",
   "execution_count": 164,
   "id": "d63cb24d",
   "metadata": {},
   "outputs": [
    {
     "data": {
      "text/html": [
       "<div>\n",
       "<style scoped>\n",
       "    .dataframe tbody tr th:only-of-type {\n",
       "        vertical-align: middle;\n",
       "    }\n",
       "\n",
       "    .dataframe tbody tr th {\n",
       "        vertical-align: top;\n",
       "    }\n",
       "\n",
       "    .dataframe thead th {\n",
       "        text-align: right;\n",
       "    }\n",
       "</style>\n",
       "<table border=\"1\" class=\"dataframe\">\n",
       "  <thead>\n",
       "    <tr style=\"text-align: right;\">\n",
       "      <th></th>\n",
       "      <th>count</th>\n",
       "      <th>mean</th>\n",
       "      <th>std</th>\n",
       "      <th>min</th>\n",
       "      <th>1%</th>\n",
       "      <th>2%</th>\n",
       "      <th>3%</th>\n",
       "      <th>4%</th>\n",
       "      <th>5%</th>\n",
       "      <th>10%</th>\n",
       "      <th>25%</th>\n",
       "      <th>50%</th>\n",
       "      <th>75%</th>\n",
       "      <th>90%</th>\n",
       "      <th>95%</th>\n",
       "      <th>96%</th>\n",
       "      <th>97%</th>\n",
       "      <th>98%</th>\n",
       "      <th>99%</th>\n",
       "      <th>max</th>\n",
       "    </tr>\n",
       "  </thead>\n",
       "  <tbody>\n",
       "    <tr>\n",
       "      <th>Pregnancies</th>\n",
       "      <td>768.0</td>\n",
       "      <td>4.588542</td>\n",
       "      <td>9.707185</td>\n",
       "      <td>0.000</td>\n",
       "      <td>0.00000</td>\n",
       "      <td>0.00000</td>\n",
       "      <td>0.00000</td>\n",
       "      <td>0.000</td>\n",
       "      <td>0.000</td>\n",
       "      <td>0.000</td>\n",
       "      <td>1.000</td>\n",
       "      <td>3.000</td>\n",
       "      <td>6.0000</td>\n",
       "      <td>9.0000</td>\n",
       "      <td>10.65000</td>\n",
       "      <td>11.000</td>\n",
       "      <td>12.00000</td>\n",
       "      <td>13.0000</td>\n",
       "      <td>14.00000</td>\n",
       "      <td>117.0</td>\n",
       "    </tr>\n",
       "    <tr>\n",
       "      <th>Glucose</th>\n",
       "      <td>768.0</td>\n",
       "      <td>121.656250</td>\n",
       "      <td>30.438286</td>\n",
       "      <td>44.000</td>\n",
       "      <td>67.67000</td>\n",
       "      <td>72.34000</td>\n",
       "      <td>75.00000</td>\n",
       "      <td>78.000</td>\n",
       "      <td>80.000</td>\n",
       "      <td>86.700</td>\n",
       "      <td>99.750</td>\n",
       "      <td>117.000</td>\n",
       "      <td>140.2500</td>\n",
       "      <td>167.0000</td>\n",
       "      <td>181.00000</td>\n",
       "      <td>184.000</td>\n",
       "      <td>187.99000</td>\n",
       "      <td>192.3200</td>\n",
       "      <td>196.00000</td>\n",
       "      <td>199.0</td>\n",
       "    </tr>\n",
       "    <tr>\n",
       "      <th>BloodPressure</th>\n",
       "      <td>768.0</td>\n",
       "      <td>72.708333</td>\n",
       "      <td>12.581555</td>\n",
       "      <td>24.000</td>\n",
       "      <td>44.00000</td>\n",
       "      <td>50.00000</td>\n",
       "      <td>50.00000</td>\n",
       "      <td>52.000</td>\n",
       "      <td>52.700</td>\n",
       "      <td>58.000</td>\n",
       "      <td>64.000</td>\n",
       "      <td>72.000</td>\n",
       "      <td>80.0000</td>\n",
       "      <td>88.0000</td>\n",
       "      <td>92.00000</td>\n",
       "      <td>94.000</td>\n",
       "      <td>97.98000</td>\n",
       "      <td>104.0000</td>\n",
       "      <td>110.00000</td>\n",
       "      <td>122.0</td>\n",
       "    </tr>\n",
       "    <tr>\n",
       "      <th>SkinThickness</th>\n",
       "      <td>768.0</td>\n",
       "      <td>29.677083</td>\n",
       "      <td>11.263347</td>\n",
       "      <td>7.000</td>\n",
       "      <td>10.00000</td>\n",
       "      <td>12.00000</td>\n",
       "      <td>13.00000</td>\n",
       "      <td>13.000</td>\n",
       "      <td>14.350</td>\n",
       "      <td>18.000</td>\n",
       "      <td>25.000</td>\n",
       "      <td>29.000</td>\n",
       "      <td>32.0000</td>\n",
       "      <td>41.0000</td>\n",
       "      <td>45.00000</td>\n",
       "      <td>46.000</td>\n",
       "      <td>47.99000</td>\n",
       "      <td>50.0000</td>\n",
       "      <td>57.32000</td>\n",
       "      <td>117.0</td>\n",
       "    </tr>\n",
       "    <tr>\n",
       "      <th>Insulin</th>\n",
       "      <td>768.0</td>\n",
       "      <td>140.752604</td>\n",
       "      <td>86.292210</td>\n",
       "      <td>14.000</td>\n",
       "      <td>27.68000</td>\n",
       "      <td>38.68000</td>\n",
       "      <td>44.01000</td>\n",
       "      <td>48.680</td>\n",
       "      <td>50.350</td>\n",
       "      <td>67.700</td>\n",
       "      <td>120.000</td>\n",
       "      <td>125.000</td>\n",
       "      <td>127.2500</td>\n",
       "      <td>210.0000</td>\n",
       "      <td>293.00000</td>\n",
       "      <td>325.000</td>\n",
       "      <td>369.90000</td>\n",
       "      <td>470.9400</td>\n",
       "      <td>519.90000</td>\n",
       "      <td>846.0</td>\n",
       "    </tr>\n",
       "    <tr>\n",
       "      <th>BMI</th>\n",
       "      <td>768.0</td>\n",
       "      <td>33.004297</td>\n",
       "      <td>9.659329</td>\n",
       "      <td>18.200</td>\n",
       "      <td>19.50000</td>\n",
       "      <td>20.40000</td>\n",
       "      <td>21.10000</td>\n",
       "      <td>21.800</td>\n",
       "      <td>22.235</td>\n",
       "      <td>24.000</td>\n",
       "      <td>27.575</td>\n",
       "      <td>32.400</td>\n",
       "      <td>36.6000</td>\n",
       "      <td>42.1300</td>\n",
       "      <td>45.26500</td>\n",
       "      <td>45.732</td>\n",
       "      <td>46.69800</td>\n",
       "      <td>49.4980</td>\n",
       "      <td>55.75900</td>\n",
       "      <td>117.0</td>\n",
       "    </tr>\n",
       "    <tr>\n",
       "      <th>DiabetesPedigreeFunction</th>\n",
       "      <td>768.0</td>\n",
       "      <td>1.231120</td>\n",
       "      <td>9.383561</td>\n",
       "      <td>0.078</td>\n",
       "      <td>0.09468</td>\n",
       "      <td>0.11902</td>\n",
       "      <td>0.12701</td>\n",
       "      <td>0.134</td>\n",
       "      <td>0.141</td>\n",
       "      <td>0.165</td>\n",
       "      <td>0.244</td>\n",
       "      <td>0.377</td>\n",
       "      <td>0.6325</td>\n",
       "      <td>0.8963</td>\n",
       "      <td>1.16095</td>\n",
       "      <td>1.224</td>\n",
       "      <td>1.32097</td>\n",
       "      <td>1.4709</td>\n",
       "      <td>2.18683</td>\n",
       "      <td>117.0</td>\n",
       "    </tr>\n",
       "    <tr>\n",
       "      <th>Age</th>\n",
       "      <td>768.0</td>\n",
       "      <td>33.816406</td>\n",
       "      <td>13.530838</td>\n",
       "      <td>21.000</td>\n",
       "      <td>21.00000</td>\n",
       "      <td>21.00000</td>\n",
       "      <td>21.00000</td>\n",
       "      <td>21.000</td>\n",
       "      <td>21.000</td>\n",
       "      <td>22.000</td>\n",
       "      <td>24.000</td>\n",
       "      <td>29.000</td>\n",
       "      <td>41.0000</td>\n",
       "      <td>52.0000</td>\n",
       "      <td>59.00000</td>\n",
       "      <td>61.000</td>\n",
       "      <td>63.00000</td>\n",
       "      <td>66.0000</td>\n",
       "      <td>69.33000</td>\n",
       "      <td>117.0</td>\n",
       "    </tr>\n",
       "    <tr>\n",
       "      <th>Outcome</th>\n",
       "      <td>768.0</td>\n",
       "      <td>1.108073</td>\n",
       "      <td>9.399716</td>\n",
       "      <td>0.000</td>\n",
       "      <td>0.00000</td>\n",
       "      <td>0.00000</td>\n",
       "      <td>0.00000</td>\n",
       "      <td>0.000</td>\n",
       "      <td>0.000</td>\n",
       "      <td>0.000</td>\n",
       "      <td>0.000</td>\n",
       "      <td>0.000</td>\n",
       "      <td>1.0000</td>\n",
       "      <td>1.0000</td>\n",
       "      <td>1.00000</td>\n",
       "      <td>1.000</td>\n",
       "      <td>1.00000</td>\n",
       "      <td>1.0000</td>\n",
       "      <td>1.00000</td>\n",
       "      <td>117.0</td>\n",
       "    </tr>\n",
       "  </tbody>\n",
       "</table>\n",
       "</div>"
      ],
      "text/plain": [
       "                          count        mean        std     min        1%  \\\n",
       "Pregnancies               768.0    4.588542   9.707185   0.000   0.00000   \n",
       "Glucose                   768.0  121.656250  30.438286  44.000  67.67000   \n",
       "BloodPressure             768.0   72.708333  12.581555  24.000  44.00000   \n",
       "SkinThickness             768.0   29.677083  11.263347   7.000  10.00000   \n",
       "Insulin                   768.0  140.752604  86.292210  14.000  27.68000   \n",
       "BMI                       768.0   33.004297   9.659329  18.200  19.50000   \n",
       "DiabetesPedigreeFunction  768.0    1.231120   9.383561   0.078   0.09468   \n",
       "Age                       768.0   33.816406  13.530838  21.000  21.00000   \n",
       "Outcome                   768.0    1.108073   9.399716   0.000   0.00000   \n",
       "\n",
       "                                2%        3%      4%      5%     10%      25%  \\\n",
       "Pregnancies                0.00000   0.00000   0.000   0.000   0.000    1.000   \n",
       "Glucose                   72.34000  75.00000  78.000  80.000  86.700   99.750   \n",
       "BloodPressure             50.00000  50.00000  52.000  52.700  58.000   64.000   \n",
       "SkinThickness             12.00000  13.00000  13.000  14.350  18.000   25.000   \n",
       "Insulin                   38.68000  44.01000  48.680  50.350  67.700  120.000   \n",
       "BMI                       20.40000  21.10000  21.800  22.235  24.000   27.575   \n",
       "DiabetesPedigreeFunction   0.11902   0.12701   0.134   0.141   0.165    0.244   \n",
       "Age                       21.00000  21.00000  21.000  21.000  22.000   24.000   \n",
       "Outcome                    0.00000   0.00000   0.000   0.000   0.000    0.000   \n",
       "\n",
       "                              50%       75%       90%        95%      96%  \\\n",
       "Pregnancies                 3.000    6.0000    9.0000   10.65000   11.000   \n",
       "Glucose                   117.000  140.2500  167.0000  181.00000  184.000   \n",
       "BloodPressure              72.000   80.0000   88.0000   92.00000   94.000   \n",
       "SkinThickness              29.000   32.0000   41.0000   45.00000   46.000   \n",
       "Insulin                   125.000  127.2500  210.0000  293.00000  325.000   \n",
       "BMI                        32.400   36.6000   42.1300   45.26500   45.732   \n",
       "DiabetesPedigreeFunction    0.377    0.6325    0.8963    1.16095    1.224   \n",
       "Age                        29.000   41.0000   52.0000   59.00000   61.000   \n",
       "Outcome                     0.000    1.0000    1.0000    1.00000    1.000   \n",
       "\n",
       "                                97%       98%        99%    max  \n",
       "Pregnancies                12.00000   13.0000   14.00000  117.0  \n",
       "Glucose                   187.99000  192.3200  196.00000  199.0  \n",
       "BloodPressure              97.98000  104.0000  110.00000  122.0  \n",
       "SkinThickness              47.99000   50.0000   57.32000  117.0  \n",
       "Insulin                   369.90000  470.9400  519.90000  846.0  \n",
       "BMI                        46.69800   49.4980   55.75900  117.0  \n",
       "DiabetesPedigreeFunction    1.32097    1.4709    2.18683  117.0  \n",
       "Age                        63.00000   66.0000   69.33000  117.0  \n",
       "Outcome                     1.00000    1.0000    1.00000  117.0  "
      ]
     },
     "execution_count": 164,
     "metadata": {},
     "output_type": "execute_result"
    }
   ],
   "source": [
    "diab.describe(percentiles=[.01,.02,.03,.04,.05,.1,.25,.5,.75,.9,.95,.96,.97,.98,.99]).T"
   ]
  },
  {
   "cell_type": "code",
   "execution_count": 200,
   "id": "08cbad13",
   "metadata": {},
   "outputs": [],
   "source": [
    "diab_out=diab.apply(outliers)"
   ]
  },
  {
   "cell_type": "code",
   "execution_count": 201,
   "id": "9983d4ae",
   "metadata": {},
   "outputs": [
    {
     "data": {
      "text/html": [
       "<div>\n",
       "<style scoped>\n",
       "    .dataframe tbody tr th:only-of-type {\n",
       "        vertical-align: middle;\n",
       "    }\n",
       "\n",
       "    .dataframe tbody tr th {\n",
       "        vertical-align: top;\n",
       "    }\n",
       "\n",
       "    .dataframe thead th {\n",
       "        text-align: right;\n",
       "    }\n",
       "</style>\n",
       "<table border=\"1\" class=\"dataframe\">\n",
       "  <thead>\n",
       "    <tr style=\"text-align: right;\">\n",
       "      <th></th>\n",
       "      <th>count</th>\n",
       "      <th>mean</th>\n",
       "      <th>std</th>\n",
       "      <th>min</th>\n",
       "      <th>1%</th>\n",
       "      <th>2%</th>\n",
       "      <th>3%</th>\n",
       "      <th>4%</th>\n",
       "      <th>5%</th>\n",
       "      <th>10%</th>\n",
       "      <th>25%</th>\n",
       "      <th>50%</th>\n",
       "      <th>75%</th>\n",
       "      <th>90%</th>\n",
       "      <th>95%</th>\n",
       "      <th>96%</th>\n",
       "      <th>97%</th>\n",
       "      <th>98%</th>\n",
       "      <th>99%</th>\n",
       "      <th>max</th>\n",
       "    </tr>\n",
       "  </thead>\n",
       "  <tbody>\n",
       "    <tr>\n",
       "      <th>Pregnancies</th>\n",
       "      <td>768.0</td>\n",
       "      <td>3.912760</td>\n",
       "      <td>3.444315</td>\n",
       "      <td>0.00000</td>\n",
       "      <td>0.000000</td>\n",
       "      <td>0.00000</td>\n",
       "      <td>0.00000</td>\n",
       "      <td>0.000</td>\n",
       "      <td>0.000</td>\n",
       "      <td>0.000</td>\n",
       "      <td>1.000</td>\n",
       "      <td>3.000</td>\n",
       "      <td>6.0000</td>\n",
       "      <td>9.0000</td>\n",
       "      <td>10.65000</td>\n",
       "      <td>11.000</td>\n",
       "      <td>12.00000</td>\n",
       "      <td>13.0000</td>\n",
       "      <td>14.000000</td>\n",
       "      <td>14.00000</td>\n",
       "    </tr>\n",
       "    <tr>\n",
       "      <th>Glucose</th>\n",
       "      <td>768.0</td>\n",
       "      <td>121.738750</td>\n",
       "      <td>30.219440</td>\n",
       "      <td>67.67000</td>\n",
       "      <td>67.891100</td>\n",
       "      <td>72.34000</td>\n",
       "      <td>75.00000</td>\n",
       "      <td>78.000</td>\n",
       "      <td>80.000</td>\n",
       "      <td>86.700</td>\n",
       "      <td>99.750</td>\n",
       "      <td>117.000</td>\n",
       "      <td>140.2500</td>\n",
       "      <td>167.0000</td>\n",
       "      <td>181.00000</td>\n",
       "      <td>184.000</td>\n",
       "      <td>187.99000</td>\n",
       "      <td>192.3200</td>\n",
       "      <td>196.000000</td>\n",
       "      <td>196.00000</td>\n",
       "    </tr>\n",
       "    <tr>\n",
       "      <th>BloodPressure</th>\n",
       "      <td>768.0</td>\n",
       "      <td>72.717448</td>\n",
       "      <td>12.139438</td>\n",
       "      <td>44.00000</td>\n",
       "      <td>44.000000</td>\n",
       "      <td>50.00000</td>\n",
       "      <td>50.00000</td>\n",
       "      <td>52.000</td>\n",
       "      <td>52.700</td>\n",
       "      <td>58.000</td>\n",
       "      <td>64.000</td>\n",
       "      <td>72.000</td>\n",
       "      <td>80.0000</td>\n",
       "      <td>88.0000</td>\n",
       "      <td>92.00000</td>\n",
       "      <td>94.000</td>\n",
       "      <td>97.98000</td>\n",
       "      <td>104.0000</td>\n",
       "      <td>110.000000</td>\n",
       "      <td>110.00000</td>\n",
       "    </tr>\n",
       "    <tr>\n",
       "      <th>SkinThickness</th>\n",
       "      <td>768.0</td>\n",
       "      <td>29.236406</td>\n",
       "      <td>8.687405</td>\n",
       "      <td>10.00000</td>\n",
       "      <td>10.000000</td>\n",
       "      <td>12.00000</td>\n",
       "      <td>13.00000</td>\n",
       "      <td>13.000</td>\n",
       "      <td>14.350</td>\n",
       "      <td>18.000</td>\n",
       "      <td>25.000</td>\n",
       "      <td>29.000</td>\n",
       "      <td>32.0000</td>\n",
       "      <td>41.0000</td>\n",
       "      <td>45.00000</td>\n",
       "      <td>46.000</td>\n",
       "      <td>47.99000</td>\n",
       "      <td>50.0000</td>\n",
       "      <td>56.435600</td>\n",
       "      <td>57.32000</td>\n",
       "    </tr>\n",
       "    <tr>\n",
       "      <th>Insulin</th>\n",
       "      <td>768.0</td>\n",
       "      <td>139.649271</td>\n",
       "      <td>79.142371</td>\n",
       "      <td>27.68000</td>\n",
       "      <td>28.564400</td>\n",
       "      <td>38.68000</td>\n",
       "      <td>44.01000</td>\n",
       "      <td>48.680</td>\n",
       "      <td>50.350</td>\n",
       "      <td>67.700</td>\n",
       "      <td>120.000</td>\n",
       "      <td>125.000</td>\n",
       "      <td>127.2500</td>\n",
       "      <td>210.0000</td>\n",
       "      <td>293.00000</td>\n",
       "      <td>325.000</td>\n",
       "      <td>369.90000</td>\n",
       "      <td>470.9400</td>\n",
       "      <td>513.267000</td>\n",
       "      <td>519.90000</td>\n",
       "    </tr>\n",
       "    <tr>\n",
       "      <th>BMI</th>\n",
       "      <td>768.0</td>\n",
       "      <td>32.591500</td>\n",
       "      <td>7.009781</td>\n",
       "      <td>19.50000</td>\n",
       "      <td>19.500000</td>\n",
       "      <td>20.40000</td>\n",
       "      <td>21.10000</td>\n",
       "      <td>21.800</td>\n",
       "      <td>22.235</td>\n",
       "      <td>24.000</td>\n",
       "      <td>27.575</td>\n",
       "      <td>32.400</td>\n",
       "      <td>36.6000</td>\n",
       "      <td>42.1300</td>\n",
       "      <td>45.26500</td>\n",
       "      <td>45.732</td>\n",
       "      <td>46.69800</td>\n",
       "      <td>49.4980</td>\n",
       "      <td>55.250470</td>\n",
       "      <td>55.75900</td>\n",
       "    </tr>\n",
       "    <tr>\n",
       "      <th>DiabetesPedigreeFunction</th>\n",
       "      <td>768.0</td>\n",
       "      <td>0.483107</td>\n",
       "      <td>0.355272</td>\n",
       "      <td>0.09468</td>\n",
       "      <td>0.095564</td>\n",
       "      <td>0.11902</td>\n",
       "      <td>0.12701</td>\n",
       "      <td>0.134</td>\n",
       "      <td>0.141</td>\n",
       "      <td>0.165</td>\n",
       "      <td>0.244</td>\n",
       "      <td>0.377</td>\n",
       "      <td>0.6325</td>\n",
       "      <td>0.8963</td>\n",
       "      <td>1.16095</td>\n",
       "      <td>1.224</td>\n",
       "      <td>1.32097</td>\n",
       "      <td>1.4709</td>\n",
       "      <td>2.153444</td>\n",
       "      <td>2.18683</td>\n",
       "    </tr>\n",
       "    <tr>\n",
       "      <th>Age</th>\n",
       "      <td>768.0</td>\n",
       "      <td>33.486510</td>\n",
       "      <td>12.021286</td>\n",
       "      <td>21.00000</td>\n",
       "      <td>21.000000</td>\n",
       "      <td>21.00000</td>\n",
       "      <td>21.00000</td>\n",
       "      <td>21.000</td>\n",
       "      <td>21.000</td>\n",
       "      <td>22.000</td>\n",
       "      <td>24.000</td>\n",
       "      <td>29.000</td>\n",
       "      <td>41.0000</td>\n",
       "      <td>52.0000</td>\n",
       "      <td>59.00000</td>\n",
       "      <td>61.000</td>\n",
       "      <td>63.00000</td>\n",
       "      <td>66.0000</td>\n",
       "      <td>69.108900</td>\n",
       "      <td>69.33000</td>\n",
       "    </tr>\n",
       "    <tr>\n",
       "      <th>Outcome</th>\n",
       "      <td>768.0</td>\n",
       "      <td>0.352865</td>\n",
       "      <td>0.478172</td>\n",
       "      <td>0.00000</td>\n",
       "      <td>0.000000</td>\n",
       "      <td>0.00000</td>\n",
       "      <td>0.00000</td>\n",
       "      <td>0.000</td>\n",
       "      <td>0.000</td>\n",
       "      <td>0.000</td>\n",
       "      <td>0.000</td>\n",
       "      <td>0.000</td>\n",
       "      <td>1.0000</td>\n",
       "      <td>1.0000</td>\n",
       "      <td>1.00000</td>\n",
       "      <td>1.000</td>\n",
       "      <td>1.00000</td>\n",
       "      <td>1.0000</td>\n",
       "      <td>1.000000</td>\n",
       "      <td>1.00000</td>\n",
       "    </tr>\n",
       "  </tbody>\n",
       "</table>\n",
       "</div>"
      ],
      "text/plain": [
       "                          count        mean        std       min         1%  \\\n",
       "Pregnancies               768.0    3.912760   3.444315   0.00000   0.000000   \n",
       "Glucose                   768.0  121.738750  30.219440  67.67000  67.891100   \n",
       "BloodPressure             768.0   72.717448  12.139438  44.00000  44.000000   \n",
       "SkinThickness             768.0   29.236406   8.687405  10.00000  10.000000   \n",
       "Insulin                   768.0  139.649271  79.142371  27.68000  28.564400   \n",
       "BMI                       768.0   32.591500   7.009781  19.50000  19.500000   \n",
       "DiabetesPedigreeFunction  768.0    0.483107   0.355272   0.09468   0.095564   \n",
       "Age                       768.0   33.486510  12.021286  21.00000  21.000000   \n",
       "Outcome                   768.0    0.352865   0.478172   0.00000   0.000000   \n",
       "\n",
       "                                2%        3%      4%      5%     10%      25%  \\\n",
       "Pregnancies                0.00000   0.00000   0.000   0.000   0.000    1.000   \n",
       "Glucose                   72.34000  75.00000  78.000  80.000  86.700   99.750   \n",
       "BloodPressure             50.00000  50.00000  52.000  52.700  58.000   64.000   \n",
       "SkinThickness             12.00000  13.00000  13.000  14.350  18.000   25.000   \n",
       "Insulin                   38.68000  44.01000  48.680  50.350  67.700  120.000   \n",
       "BMI                       20.40000  21.10000  21.800  22.235  24.000   27.575   \n",
       "DiabetesPedigreeFunction   0.11902   0.12701   0.134   0.141   0.165    0.244   \n",
       "Age                       21.00000  21.00000  21.000  21.000  22.000   24.000   \n",
       "Outcome                    0.00000   0.00000   0.000   0.000   0.000    0.000   \n",
       "\n",
       "                              50%       75%       90%        95%      96%  \\\n",
       "Pregnancies                 3.000    6.0000    9.0000   10.65000   11.000   \n",
       "Glucose                   117.000  140.2500  167.0000  181.00000  184.000   \n",
       "BloodPressure              72.000   80.0000   88.0000   92.00000   94.000   \n",
       "SkinThickness              29.000   32.0000   41.0000   45.00000   46.000   \n",
       "Insulin                   125.000  127.2500  210.0000  293.00000  325.000   \n",
       "BMI                        32.400   36.6000   42.1300   45.26500   45.732   \n",
       "DiabetesPedigreeFunction    0.377    0.6325    0.8963    1.16095    1.224   \n",
       "Age                        29.000   41.0000   52.0000   59.00000   61.000   \n",
       "Outcome                     0.000    1.0000    1.0000    1.00000    1.000   \n",
       "\n",
       "                                97%       98%         99%        max  \n",
       "Pregnancies                12.00000   13.0000   14.000000   14.00000  \n",
       "Glucose                   187.99000  192.3200  196.000000  196.00000  \n",
       "BloodPressure              97.98000  104.0000  110.000000  110.00000  \n",
       "SkinThickness              47.99000   50.0000   56.435600   57.32000  \n",
       "Insulin                   369.90000  470.9400  513.267000  519.90000  \n",
       "BMI                        46.69800   49.4980   55.250470   55.75900  \n",
       "DiabetesPedigreeFunction    1.32097    1.4709    2.153444    2.18683  \n",
       "Age                        63.00000   66.0000   69.108900   69.33000  \n",
       "Outcome                     1.00000    1.0000    1.000000    1.00000  "
      ]
     },
     "execution_count": 201,
     "metadata": {},
     "output_type": "execute_result"
    }
   ],
   "source": [
    "diab_out.describe(percentiles=[.01,.02,.03,.04,.05,.1,.25,.5,.75,.9,.95,.96,.97,.98,.99]).T"
   ]
  },
  {
   "cell_type": "markdown",
   "id": "b5c514af",
   "metadata": {},
   "source": [
    "#### Correlation"
   ]
  },
  {
   "cell_type": "code",
   "execution_count": 202,
   "id": "c394070f",
   "metadata": {},
   "outputs": [
    {
     "data": {
      "text/plain": [
       "<AxesSubplot:>"
      ]
     },
     "execution_count": 202,
     "metadata": {},
     "output_type": "execute_result"
    },
    {
     "data": {
      "image/png": "[encoded data removed]",
      "text/plain": [
       "<Figure size 432x288 with 2 Axes>"
      ]
     },
     "metadata": {
      "needs_background": "light"
     },
     "output_type": "display_data"
    }
   ],
   "source": [
    "cr=diab_out.corr()\n",
    "cr1= cr[abs(cr)>.7]\n",
    "sns.heatmap(cr,annot=True,cmap=\"coolwarm\")"
   ]
  },
  {
   "cell_type": "markdown",
   "id": "64a1d73d",
   "metadata": {},
   "source": [
    "#### Model Development"
   ]
  },
  {
   "cell_type": "code",
   "execution_count": 203,
   "id": "980d6d28",
   "metadata": {},
   "outputs": [],
   "source": [
    "y=diab_out[\"Outcome\"]\n",
    "x=diab_out.drop(columns=[\"Outcome\"])"
   ]
  },
  {
   "cell_type": "code",
   "execution_count": 173,
   "id": "a5f0010f",
   "metadata": {},
   "outputs": [],
   "source": [
    "from sklearn.model_selection import train_test_split, GridSearchCV\n",
    "from sklearn.linear_model import LogisticRegression\n",
    "from sklearn.tree import DecisionTreeClassifier\n",
    "from sklearn import metrics"
   ]
  },
  {
   "cell_type": "code",
   "execution_count": 204,
   "id": "d537ee48",
   "metadata": {},
   "outputs": [],
   "source": [
    "x_train,x_test,y_train,y_test=train_test_split(x,y,test_size=.3,random_state=0)"
   ]
  },
  {
   "cell_type": "code",
   "execution_count": 205,
   "id": "bf6f4ac7",
   "metadata": {},
   "outputs": [
    {
     "data": {
      "text/plain": [
       "LogisticRegression(max_iter=10000, random_state=12)"
      ]
     },
     "execution_count": 205,
     "metadata": {},
     "output_type": "execute_result"
    }
   ],
   "source": [
    "logR=LogisticRegression(max_iter=10000,random_state=12)  #iteration is necessary\n",
    "logR.fit(x_train,y_train)"
   ]
  },
  {
   "cell_type": "code",
   "execution_count": 206,
   "id": "f6a307e0",
   "metadata": {},
   "outputs": [
    {
     "name": "stdout",
     "output_type": "stream",
     "text": [
      "Train Accuracy: 0.7746741154562383\n",
      "Test Accuracy: 0.7662337662337663\n"
     ]
    }
   ],
   "source": [
    "\n",
    "print(\"Train Accuracy:\" ,logR.score(x_train,y_train))\n",
    "print(\"Test Accuracy:\" ,logR.score(x_test,y_test))"
   ]
  },
  {
   "cell_type": "code",
   "execution_count": 207,
   "id": "ff60471e",
   "metadata": {},
   "outputs": [
    {
     "name": "stdout",
     "output_type": "stream",
     "text": [
      "Train Accuracy: 1.0\n",
      "Test Accuracy: 0.7445887445887446\n"
     ]
    }
   ],
   "source": [
    "dt=DecisionTreeClassifier()\n",
    "dt.fit(x_train,y_train)\n",
    "\n",
    "print(\"Train Accuracy:\" ,dt.score(x_train,y_train))\n",
    "print(\"Test Accuracy:\" ,dt.score(x_test,y_test))"
   ]
  },
  {
   "cell_type": "markdown",
   "id": "f02e2b24",
   "metadata": {},
   "source": [
    "##### Grid Search Parameters"
   ]
  },
  {
   "cell_type": "code",
   "execution_count": 208,
   "id": "edcdbb86",
   "metadata": {},
   "outputs": [
    {
     "data": {
      "text/plain": [
       "(537, 8)"
      ]
     },
     "execution_count": 208,
     "metadata": {},
     "output_type": "execute_result"
    }
   ],
   "source": [
    "x_train.shape"
   ]
  },
  {
   "cell_type": "code",
   "execution_count": 209,
   "id": "7f0be8b8",
   "metadata": {},
   "outputs": [
    {
     "name": "stdout",
     "output_type": "stream",
     "text": [
      "Fitting 5 folds for each of 480 candidates, totalling 2400 fits\n"
     ]
    },
    {
     "data": {
      "text/plain": [
       "GridSearchCV(cv=5, estimator=DecisionTreeClassifier(), n_jobs=-1,\n",
       "             param_grid={'criterion': ['gini', 'entropy'],\n",
       "                         'max_depth': [3, 5, 7, 9, 11],\n",
       "                         'min_samples_leaf': [1, 3, 5, 7, 9, 12, 15, 20],\n",
       "                         'min_samples_split': [20, 30, 50, 70, 100, 120]},\n",
       "             verbose=1)"
      ]
     },
     "execution_count": 209,
     "metadata": {},
     "output_type": "execute_result"
    }
   ],
   "source": [
    "params={\n",
    "    \"criterion\":[\"gini\",\"entropy\"],\n",
    "\"max_depth\":[3,5,7,9,11],                                 #we can enter parameters as per our \n",
    "\"min_samples_split\":[20,30,50,70,100,120],\n",
    "\"min_samples_leaf\":[1,3,5,7,9,12,15,20]}\n",
    "\n",
    "dtg=DecisionTreeClassifier()\n",
    "\n",
    "gd_search=GridSearchCV(estimator=dtg,param_grid=params,cv=5,n_jobs=-1,verbose=1,refit=True)#rift:model cv pe run hone ke baad\n",
    "                                                            #pure data pe bhi run hota hai\n",
    "\n",
    "gd_search.fit(x_train,y_train)"
   ]
  },
  {
   "cell_type": "code",
   "execution_count": 210,
   "id": "137c9d97",
   "metadata": {},
   "outputs": [
    {
     "data": {
      "text/plain": [
       "{'criterion': 'gini',\n",
       " 'max_depth': 9,\n",
       " 'min_samples_leaf': 12,\n",
       " 'min_samples_split': 30}"
      ]
     },
     "execution_count": 210,
     "metadata": {},
     "output_type": "execute_result"
    }
   ],
   "source": [
    "gd_search.best_params_"
   ]
  },
  {
   "cell_type": "code",
   "execution_count": 211,
   "id": "7b5bbb75",
   "metadata": {},
   "outputs": [
    {
     "name": "stdout",
     "output_type": "stream",
     "text": [
      "Train Accuracy: 0.7802607076350093\n",
      "Test Accuracy: 0.7532467532467533\n"
     ]
    }
   ],
   "source": [
    "dt1=DecisionTreeClassifier(criterion=\"gini\",max_depth=5,min_samples_leaf=15,min_samples_split=30)\n",
    "dt1.fit(x_train,y_train)\n",
    "\n",
    "print(\"Train Accuracy:\" ,dt1.score(x_train,y_train))\n",
    "print(\"Test Accuracy:\" ,dt1.score(x_test,y_test))"
   ]
  },
  {
   "cell_type": "code",
   "execution_count": 212,
   "id": "9fff5b5e",
   "metadata": {},
   "outputs": [
    {
     "data": {
      "text/plain": [
       "0.7523018345448251"
      ]
     },
     "execution_count": 212,
     "metadata": {},
     "output_type": "execute_result"
    }
   ],
   "source": [
    "gd_search.best_score_"
   ]
  },
  {
   "cell_type": "markdown",
   "id": "d4959ebe",
   "metadata": {},
   "source": [
    "#### Feature Importance"
   ]
  },
  {
   "cell_type": "code",
   "execution_count": 213,
   "id": "268cd67e",
   "metadata": {},
   "outputs": [
    {
     "data": {
      "text/html": [
       "<div>\n",
       "<style scoped>\n",
       "    .dataframe tbody tr th:only-of-type {\n",
       "        vertical-align: middle;\n",
       "    }\n",
       "\n",
       "    .dataframe tbody tr th {\n",
       "        vertical-align: top;\n",
       "    }\n",
       "\n",
       "    .dataframe thead th {\n",
       "        text-align: right;\n",
       "    }\n",
       "</style>\n",
       "<table border=\"1\" class=\"dataframe\">\n",
       "  <thead>\n",
       "    <tr style=\"text-align: right;\">\n",
       "      <th></th>\n",
       "      <th>Variable</th>\n",
       "      <th>Imp</th>\n",
       "    </tr>\n",
       "  </thead>\n",
       "  <tbody>\n",
       "    <tr>\n",
       "      <th>1</th>\n",
       "      <td>Glucose</td>\n",
       "      <td>0.578225</td>\n",
       "    </tr>\n",
       "    <tr>\n",
       "      <th>5</th>\n",
       "      <td>BMI</td>\n",
       "      <td>0.170632</td>\n",
       "    </tr>\n",
       "    <tr>\n",
       "      <th>7</th>\n",
       "      <td>Age</td>\n",
       "      <td>0.150598</td>\n",
       "    </tr>\n",
       "    <tr>\n",
       "      <th>6</th>\n",
       "      <td>DiabetesPedigreeFunction</td>\n",
       "      <td>0.043871</td>\n",
       "    </tr>\n",
       "    <tr>\n",
       "      <th>4</th>\n",
       "      <td>Insulin</td>\n",
       "      <td>0.031085</td>\n",
       "    </tr>\n",
       "    <tr>\n",
       "      <th>3</th>\n",
       "      <td>SkinThickness</td>\n",
       "      <td>0.023642</td>\n",
       "    </tr>\n",
       "    <tr>\n",
       "      <th>0</th>\n",
       "      <td>Pregnancies</td>\n",
       "      <td>0.001947</td>\n",
       "    </tr>\n",
       "    <tr>\n",
       "      <th>2</th>\n",
       "      <td>BloodPressure</td>\n",
       "      <td>0.000000</td>\n",
       "    </tr>\n",
       "  </tbody>\n",
       "</table>\n",
       "</div>"
      ],
      "text/plain": [
       "                   Variable       Imp\n",
       "1                   Glucose  0.578225\n",
       "5                       BMI  0.170632\n",
       "7                       Age  0.150598\n",
       "6  DiabetesPedigreeFunction  0.043871\n",
       "4                   Insulin  0.031085\n",
       "3             SkinThickness  0.023642\n",
       "0               Pregnancies  0.001947\n",
       "2             BloodPressure  0.000000"
      ]
     },
     "execution_count": 213,
     "metadata": {},
     "output_type": "execute_result"
    }
   ],
   "source": [
    "pd.DataFrame({\"Variable\": x_train.columns, \"Imp\":dt1.feature_importances_}).sort_values(by=\"Imp\",ascending=False)"
   ]
  },
  {
   "cell_type": "code",
   "execution_count": 214,
   "id": "4cf373c5",
   "metadata": {},
   "outputs": [],
   "source": [
    "def classification(act,pred,probs):\n",
    "    ac1=metrics.accuracy_score(act,pred)\n",
    "    rc1=metrics.recall_score(act,pred)\n",
    "    pc1=metrics.precision_score(act,pred)\n",
    "    f1=metrics.f1_score(act,pred)\n",
    "    roc1=metrics.roc_auc_score(act,pred)\n",
    "    result={\"Accuracy\":ac1,\"Recall\":rc1,\"Precission\":pc1,\"F1score\": f1, \"AUC\": roc1}\n",
    "    \n",
    "    fpr,tpr,threshold=metrics.roc_curve(act,probs)\n",
    "    plt.plot([0,1],[0,1],\"k--\")  #0,1 are the edges starting from 0 to 1 and k-- is for the line which is coming in graph and \n",
    "                                 #k is for black color\n",
    "    plt.plot(fpr,tpr)\n",
    "    plt.xlabel(\"fpr\")\n",
    "    plt.ylabel(\"tpr\")\n",
    "    plt.show()\n",
    "    return result"
   ]
  },
  {
   "cell_type": "code",
   "execution_count": 215,
   "id": "f8a9a077",
   "metadata": {},
   "outputs": [],
   "source": [
    "pred_train=logR.predict(x_train)\n",
    "pred_test=logR.predict(x_test)"
   ]
  },
  {
   "cell_type": "code",
   "execution_count": 216,
   "id": "1f676206",
   "metadata": {},
   "outputs": [],
   "source": [
    "prob_train_1=logR.predict_proba(x_train)[:,1]\n",
    "prob_test_1=logR.predict_proba(x_test)[:,1]"
   ]
  },
  {
   "cell_type": "code",
   "execution_count": 217,
   "id": "ec801713",
   "metadata": {},
   "outputs": [
    {
     "data": {
      "text/plain": [
       "array([1., 0., 0., 1., 0., 0., 1., 1., 0., 0., 1., 1., 0., 0., 0., 0., 1.,\n",
       "       0., 0., 0., 1., 0., 0., 0., 0., 0., 0., 1., 0., 0., 0., 0., 0., 0.,\n",
       "       0., 1., 0., 0., 0., 1., 0., 0., 0., 1., 1., 0., 0., 0., 0., 0., 0.,\n",
       "       0., 1., 0., 0., 1., 0., 1., 0., 0., 1., 1., 0., 0., 1., 1., 1., 0.,\n",
       "       0., 0., 0., 0., 0., 1., 1., 0., 0., 1., 0., 0., 0., 0., 0., 0., 0.,\n",
       "       0., 0., 0., 1., 0., 0., 0., 0., 0., 1., 0., 0., 1., 1., 0., 0., 0.,\n",
       "       0., 0., 1., 0., 0., 0., 0., 1., 0., 0., 1., 0., 1., 1., 0., 1., 0.,\n",
       "       1., 0., 0., 0., 0., 0., 0., 0., 0., 0., 0., 0., 0., 0., 1., 0., 0.,\n",
       "       0., 0., 0., 0., 0., 1., 0., 0., 0., 0., 0., 0., 0., 0., 0., 1., 0.,\n",
       "       0., 1., 0., 1., 0., 0., 1., 1., 1., 0., 0., 1., 0., 0., 0., 0., 0.,\n",
       "       0., 0., 0., 0., 1., 0., 0., 0., 0., 0., 0., 1., 0., 1., 0., 0., 1.,\n",
       "       0., 0., 0., 0., 0., 0., 0., 0., 1., 1., 1., 0., 0., 0., 0., 0., 0.,\n",
       "       0., 0., 0., 0., 0., 0., 0., 0., 0., 0., 0., 0., 0., 0., 1., 0., 0.,\n",
       "       0., 0., 1., 1., 1., 0., 0., 0., 0., 0.])"
      ]
     },
     "execution_count": 217,
     "metadata": {},
     "output_type": "execute_result"
    }
   ],
   "source": [
    "pred_test"
   ]
  },
  {
   "cell_type": "code",
   "execution_count": 218,
   "id": "5afe0cb7",
   "metadata": {},
   "outputs": [
    {
     "data": {
      "image/png": "[encoded data removed]",
      "text/plain": [
       "<Figure size 432x288 with 1 Axes>"
      ]
     },
     "metadata": {
      "needs_background": "light"
     },
     "output_type": "display_data"
    },
    {
     "data": {
      "text/plain": [
       "{'Accuracy': 0.7746741154562383,\n",
       " 'Recall': 0.6071428571428571,\n",
       " 'Precission': 0.7300613496932515,\n",
       " 'F1score': 0.6629526462395544,\n",
       " 'AUC': 0.7390552995391705}"
      ]
     },
     "execution_count": 218,
     "metadata": {},
     "output_type": "execute_result"
    }
   ],
   "source": [
    "classification(y_train,pred_train,probs=prob_train_1)"
   ]
  },
  {
   "cell_type": "code",
   "execution_count": 226,
   "id": "873cee62",
   "metadata": {},
   "outputs": [],
   "source": [
    "new_prob_train=np.where(prob_train_1>=.2,1,0)\n",
    "new_prob_test=np.where(prob_test_1>=.2,1,0)"
   ]
  },
  {
   "cell_type": "code",
   "execution_count": 227,
   "id": "457466b2",
   "metadata": {},
   "outputs": [
    {
     "data": {
      "image/png": "[encoded data removed]",
      "text/plain": [
       "<Figure size 432x288 with 1 Axes>"
      ]
     },
     "metadata": {
      "needs_background": "light"
     },
     "output_type": "display_data"
    },
    {
     "data": {
      "text/plain": [
       "{'Accuracy': 0.6815642458100558,\n",
       " 'Recall': 0.9030612244897959,\n",
       " 'Precission': 0.5379939209726444,\n",
       " 'F1score': 0.6742857142857143,\n",
       " 'AUC': 0.7286567119516427}"
      ]
     },
     "execution_count": 227,
     "metadata": {},
     "output_type": "execute_result"
    }
   ],
   "source": [
    "classification(y_train,new_prob_train,probs=prob_train_1)"
   ]
  },
  {
   "cell_type": "code",
   "execution_count": 228,
   "id": "bf927d60",
   "metadata": {},
   "outputs": [
    {
     "data": {
      "text/html": [
       "<div>\n",
       "<style scoped>\n",
       "    .dataframe tbody tr th:only-of-type {\n",
       "        vertical-align: middle;\n",
       "    }\n",
       "\n",
       "    .dataframe tbody tr th {\n",
       "        vertical-align: top;\n",
       "    }\n",
       "\n",
       "    .dataframe thead th {\n",
       "        text-align: right;\n",
       "    }\n",
       "</style>\n",
       "<table border=\"1\" class=\"dataframe\">\n",
       "  <thead>\n",
       "    <tr style=\"text-align: right;\">\n",
       "      <th></th>\n",
       "      <th>Pred0</th>\n",
       "      <th>Pred1</th>\n",
       "    </tr>\n",
       "  </thead>\n",
       "  <tbody>\n",
       "    <tr>\n",
       "      <th>Act_0</th>\n",
       "      <td>189</td>\n",
       "      <td>152</td>\n",
       "    </tr>\n",
       "    <tr>\n",
       "      <th>Act_1</th>\n",
       "      <td>19</td>\n",
       "      <td>177</td>\n",
       "    </tr>\n",
       "  </tbody>\n",
       "</table>\n",
       "</div>"
      ],
      "text/plain": [
       "       Pred0  Pred1\n",
       "Act_0    189    152\n",
       "Act_1     19    177"
      ]
     },
     "execution_count": 228,
     "metadata": {},
     "output_type": "execute_result"
    }
   ],
   "source": [
    "pd.DataFrame(metrics.confusion_matrix(y_train,new_prob_train),columns=[\"Pred0\",\"Pred1\"],index=[\"Act_0\",\"Act_1\"])"
   ]
  },
  {
   "cell_type": "code",
   "execution_count": null,
   "id": "8f939525",
   "metadata": {},
   "outputs": [],
   "source": []
  }
 ],
 "metadata": {
  "kernelspec": {
   "display_name": "Python 3 (ipykernel)",
   "language": "python",
   "name": "python3"
  },
  "language_info": {
   "codemirror_mode": {
    "name": "ipython",
    "version": 3
   },
   "file_extension": ".py",
   "mimetype": "text/x-python",
   "name": "python",
   "nbconvert_exporter": "python",
   "pygments_lexer": "ipython3",
   "version": "3.9.12"
  }
 },
 "nbformat": 4,
 "nbformat_minor": 5
}
